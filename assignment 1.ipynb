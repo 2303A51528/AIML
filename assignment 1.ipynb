{
  "nbformat": 4,
  "nbformat_minor": 0,
  "metadata": {
    "colab": {
      "provenance": [],
      "authorship_tag": "ABX9TyPhdBPPtjQ014nIC6B4kvKE",
      "include_colab_link": true
    },
    "kernelspec": {
      "name": "python3",
      "display_name": "Python 3"
    },
    "language_info": {
      "name": "python"
    }
  },
  "cells": [
    {
      "cell_type": "markdown",
      "metadata": {
        "id": "view-in-github",
        "colab_type": "text"
      },
      "source": [
        "<a href=\"https://colab.research.google.com/github/2303A51528/AIML-1528-/blob/main/assignment%201.ipynb\" target=\"_parent\"><img src=\"https://colab.research.google.com/assets/colab-badge.svg\" alt=\"Open In Colab\"/></a>"
      ]
    },
    {
      "cell_type": "code",
      "execution_count": 1,
      "metadata": {
        "colab": {
          "base_uri": "https://localhost:8080/"
        },
        "id": "6OpQKdvASjkh",
        "outputId": "a3af1887-2b20-4ef0-f179-d2d18e65378a"
      },
      "outputs": [
        {
          "output_type": "stream",
          "name": "stdout",
          "text": [
            "[1 2 3 4 5]\n",
            "[1, 2, 3, 4, 5]\n",
            "3\n",
            "1\n",
            "<class 'int'>\n",
            "<class 'float'>\n",
            "<class 'str'>\n",
            "<class 'list'>\n",
            "[14 20  8 12]\n",
            "[0.77777778 0.8        2.66666667 0.33333333]\n",
            "[40353607     1024      512       64]\n",
            "addition of 2 arrays: [16  9 11  8]\n",
            "[0.0000000e+00 1.0000000e+00 3.6739404e-16]\n",
            "[      -inf 0.30685282 2.09861229]\n",
            "[0.         1.         2.         2.30258509]\n"
          ]
        },
        {
          "output_type": "stream",
          "name": "stderr",
          "text": [
            "<ipython-input-1-73b622392c54>:48: RuntimeWarning: divide by zero encountered in log\n",
            "  logarray = np.log(array4)\n"
          ]
        }
      ],
      "source": [
        "import numpy as np\n",
        "array_1 = np.array([1,2,3,4,5])\n",
        "print(array_1)\n",
        "List_1 =[1,2,3,4,5]\n",
        "List_2 =[6,7,8,9,10]\n",
        "print(List_1)\n",
        "print(List_1[2])\n",
        "print(List_1[0])\n",
        "x = 8\n",
        "y = 0.59\n",
        "z = \"Nishi\"\n",
        "print (type(x))\n",
        "print (type(y))\n",
        "print (type(z))\n",
        "print (type(List_1))\n",
        "\n",
        "import numpy as np\n",
        "array_1 =np.array([7,4,8,2])\n",
        "array_2 =np.array([2,5,1,6])\n",
        "result = array_1 * array_2\n",
        "print(result)\n",
        "\n",
        "import numpy as np\n",
        "array1 = np.array([7,4,8,2])\n",
        "array2 = np.array([9,5,3,6])\n",
        "result = array1 / array2\n",
        "print(result)\n",
        "\n",
        "import numpy as np\n",
        "array1 = np.array([7,4,8,2])\n",
        "array2 = np.array([9,5,3,6])\n",
        "result = array1 ** array2\n",
        "print(result)\n",
        "\n",
        "import numpy as np\n",
        "array1 = np.array([7,4,8,2])\n",
        "array2 = np.array([9,5,3,6])\n",
        "result = array1 + array2\n",
        "print(\"addition of 2 arrays:\",result)\n",
        "\n",
        "import numpy as np\n",
        "array3 = np.array([0,np.pi/2,np.pi*3])\n",
        "sinarray = np.sin(array3)\n",
        "print (sinarray)\n",
        "\n",
        "import numpy as np\n",
        "array4 = np.array([0, np.e/2,np.e*3])\n",
        "logarray = np.log(array4)\n",
        "print (logarray)\n",
        "\n",
        "import numpy as np\n",
        "array5 = np.array([1,np.e,np.e**2,10])\n",
        "log_array = np.log(array5)\n",
        "print(log_array)\n",
        ""
      ]
    }
  ]
}